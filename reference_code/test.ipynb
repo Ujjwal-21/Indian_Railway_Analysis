{
 "cells": [
  {
   "cell_type": "code",
   "execution_count": 25,
   "metadata": {},
   "outputs": [
    {
     "data": {
      "text/plain": [
       "OutMultiEdgeDataView([('A', 'B', {'weight': 3}), ('A', 'C', {'weight': 10})])"
      ]
     },
     "execution_count": 25,
     "metadata": {},
     "output_type": "execute_result"
    }
   ],
   "source": [
    "import networkx as nx\n",
    "G = nx.MultiDiGraph()\n",
    "G.add_edge(\"A\", \"B\", weight=3)\n",
    "G.add_edge(\"A\", \"C\", weight=10)\n",
    "# G.edges(data=True)\n",
    "# check if edge exists\n",
    "\n",
    "\n",
    "if G.has_edge(\"A\", \"B\") and G[\"A\"][\"B\"][0][\"weight\"] > 5:\n",
    "    G[\"A\"][\"B\"][0][\"weight\"] = 5\n",
    "elif not G.has_edge(\"A\", \"B\"):\n",
    "    G.add_edge(\"A\", \"B\", weight=5)\n",
    "    # continue\n",
    "# nx.shortest_path(G, \"A\", \"B\", weight=\"weight\")\n",
    "G.edges(data=True)"
   ]
  },
  {
   "cell_type": "code",
   "execution_count": 7,
   "metadata": {},
   "outputs": [],
   "source": [
    "from pyvis.network import Network\n",
    "import networkx as nx\n",
    "nx_graph = nx.cycle_graph(10)\n",
    "nx_graph.nodes[1]['title'] = 'Number 1'\n",
    "nx_graph.nodes[1]['group'] = 1\n",
    "nx_graph.nodes[3]['title'] = 'I belong to a different group!'\n",
    "nx_graph.nodes[3]['group'] = 10\n",
    "nx_graph.add_node(20, size=20, title='couple', group=2)\n",
    "nx_graph.add_node(21, size=15, title='couple', group=2)\n",
    "nx_graph.add_edge(20, 21, weight=5)\n",
    "nx_graph.add_node(25, size=25, label='lonely', title='lonely node', group=3)\n",
    "nt = Network('500px', '500px')\n",
    "# populates the nodes and edges data structures\n",
    "nt.from_nx(nx_graph)\n",
    "nt.show('nx.html')"
   ]
  },
  {
   "cell_type": "code",
   "execution_count": 2,
   "metadata": {},
   "outputs": [
    {
     "data": {
      "image/png": "[encoded data removed]",
      "text/plain": [
       "<Figure size 640x480 with 1 Axes>"
      ]
     },
     "metadata": {},
     "output_type": "display_data"
    }
   ],
   "source": [
    "import networkx as nx\n",
    "G = nx.MultiDiGraph()\n",
    "G.add_node(\"MXE\", power=1)\n",
    "G.add_node(\"MAA\", power=2)\n",
    "G.add_edge(\"MXE\", \"MAA\", weight=1)\n",
    "G.add_edge(\"MAA\", \"MXE\", weight=2)\n",
    "nx.draw(G, with_labels=True, )"
   ]
  },
  {
   "cell_type": "code",
   "execution_count": null,
   "metadata": {},
   "outputs": [],
   "source": [
    "import pickle\n",
    "print(type(G))\n",
    "dbfile = open('examplePickle', 'ab')\n",
    "pickle.dump(G, dbfile)                     \n",
    "dbfile.close()\n",
    "\n",
    "dbfile = open('examplePickle', 'rb')     \n",
    "G = pickle.load(dbfile)\n",
    "dbfile.close()\n",
    "print(\"hi\")\n",
    "print(type(G))"
   ]
  },
  {
   "cell_type": "code",
   "execution_count": 5,
   "metadata": {},
   "outputs": [
    {
     "name": "stdout",
     "output_type": "stream",
     "text": [
      "No path between 1 and 4\n"
     ]
    }
   ],
   "source": [
    "import networkx as nx\n",
    "G = nx.Graph()\n",
    "G.add_edge(1,2)\n",
    "G.add_edge(4,3)\n",
    "try:\n",
    "    nx.shortest_path(G, 1, 4)\n",
    "except nx.NetworkXNoPath:\n",
    "    print(\"No path between 1 and 4\")"
   ]
  },
  {
   "cell_type": "code",
   "execution_count": null,
   "metadata": {},
   "outputs": [],
   "source": [
    "\n",
    "technologies = {\n",
    "'Courses':[\"Spark\",\"PySpark\",\"Python\",\"pandas\"],\n",
    "'Fee' :[20000,25000,22000,30000],\n",
    "'Duration':['30days','40days','35days','50days'],\n",
    "'Discount':[1000,2300,1200,2000]\n",
    "}\n",
    "df = pd.DataFrame(technologies)\n",
    "df.at[1, 'Duration'] = ['30days', '35days']\n",
    "print(df)"
   ]
  }
 ],
 "metadata": {
  "kernelspec": {
   "display_name": "Python 3",
   "language": "python",
   "name": "python3"
  },
  "language_info": {
   "codemirror_mode": {
    "name": "ipython",
    "version": 3
   },
   "file_extension": ".py",
   "mimetype": "text/x-python",
   "name": "python",
   "nbconvert_exporter": "python",
   "pygments_lexer": "ipython3",
   "version": "3.11.1 (v3.11.1:a7a450f84a, Dec  6 2022, 15:24:06) [Clang 13.0.0 (clang-1300.0.29.30)]"
  },
  "orig_nbformat": 4,
  "vscode": {
   "interpreter": {
    "hash": "aee8b7b246df8f9039afb4144a1f6fd8d2ca17a180786b69acc140d282b71a49"
   }
  }
 },
 "nbformat": 4,
 "nbformat_minor": 2
}
